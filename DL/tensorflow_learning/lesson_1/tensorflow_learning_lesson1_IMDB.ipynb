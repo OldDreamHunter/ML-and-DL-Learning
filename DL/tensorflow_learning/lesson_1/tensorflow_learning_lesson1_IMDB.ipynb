{
 "cells": [
  {
   "cell_type": "markdown",
   "metadata": {},
   "source": [
    "此笔记本会将文本形式的影评分为“正面”或“负面”影评。这是一个二元分类（又称为两类分类）的示例，也是一种重要且广泛适用的机器学习问题。\n",
    "IMDB数据集包含互联网电影库50000多条电影评论，包括正负面"
   ]
  },
  {
   "cell_type": "code",
   "execution_count": 2,
   "metadata": {
    "collapsed": false
   },
   "outputs": [
    {
     "name": "stdout",
     "output_type": "stream",
     "text": [
      "tf.estimator package not installed.\n",
      "tf.estimator package not installed.\n"
     ]
    }
   ],
   "source": [
    "import tensorflow as tf\n",
    "from tensorflow import keras\n",
    "import numpy as np\n",
    "import matplotlib.pyplot as plt\n",
    "\n",
    "imdb = keras.datasets.imdb"
   ]
  },
  {
   "cell_type": "code",
   "execution_count": 3,
   "metadata": {
    "collapsed": true
   },
   "outputs": [],
   "source": [
    "(train_data,train_labels),(test_data,test_labels) = imdb.load_data(num_words=10000)\n",
    "word_index = imdb.get_word_index()"
   ]
  },
  {
   "cell_type": "code",
   "execution_count": 10,
   "metadata": {
    "collapsed": true
   },
   "outputs": [],
   "source": [
    "vocab_size = len(word_index)"
   ]
  },
  {
   "cell_type": "code",
   "execution_count": 8,
   "metadata": {
    "collapsed": false
   },
   "outputs": [],
   "source": [
    "train_data = tf.keras.preprocessing.sequence.pad_sequences(train_data,value = 0.0,padding='post',maxlen=256)\n",
    "test_data = tf.keras.preprocessing.sequence.pad_sequences(test_data,value = 0.0, padding='post',maxlen=256)"
   ]
  },
  {
   "cell_type": "code",
   "execution_count": null,
   "metadata": {
    "collapsed": false
   },
   "outputs": [],
   "source": [
    "model = keras.Sequential()\n",
    "model.add(keras.layers.Embedding(vocab_size,16))\n",
    "model.add(keras.layers.GlobalAveragePooling1D())\n",
    "model.add(keras.layers.Dense(16,activation=tf.nn.relu))\n",
    "model.add(keras.layers.Dense(1,activation=tf.nn.sigmoid))\n",
    "model.summary()"
   ]
  },
  {
   "cell_type": "code",
   "execution_count": 14,
   "metadata": {
    "collapsed": true
   },
   "outputs": [],
   "source": [
    "model.compile(optimizer='Adam',loss='binary_crossentropy',metrics=['acc'])"
   ]
  },
  {
   "cell_type": "code",
   "execution_count": 15,
   "metadata": {
    "collapsed": true
   },
   "outputs": [],
   "source": [
    "x_val = train_data[:10000]\n",
    "partial_x_train = train_data[10000:]\n",
    "y_val = train_labels[:10000]\n",
    "partial_y_train = train_labels[10000:]"
   ]
  },
  {
   "cell_type": "code",
   "execution_count": 18,
   "metadata": {
    "collapsed": false
   },
   "outputs": [
    {
     "name": "stdout",
     "output_type": "stream",
     "text": [
      "Train on 15000 samples, validate on 10000 samples\n",
      "Epoch 1/10\n",
      "15000/15000 [==============================] - 7s 498us/step - loss: 0.1683 - acc: 0.9405 - val_loss: 0.2862 - val_acc: 0.8852\n",
      "Epoch 2/10\n",
      "15000/15000 [==============================] - 8s 501us/step - loss: 0.1522 - acc: 0.9480 - val_loss: 0.2894 - val_acc: 0.8850\n",
      "Epoch 3/10\n",
      "15000/15000 [==============================] - 7s 498us/step - loss: 0.1379 - acc: 0.9539 - val_loss: 0.2923 - val_acc: 0.8876\n",
      "Epoch 4/10\n",
      "15000/15000 [==============================] - 7s 500us/step - loss: 0.1233 - acc: 0.9605 - val_loss: 0.3042 - val_acc: 0.8838\n",
      "Epoch 5/10\n",
      "15000/15000 [==============================] - 8s 515us/step - loss: 0.1100 - acc: 0.9655 - val_loss: 0.3105 - val_acc: 0.8845\n",
      "Epoch 6/10\n",
      "15000/15000 [==============================] - 8s 549us/step - loss: 0.0987 - acc: 0.9714 - val_loss: 0.3246 - val_acc: 0.8832\n",
      "Epoch 7/10\n",
      "15000/15000 [==============================] - 9s 599us/step - loss: 0.0874 - acc: 0.9761 - val_loss: 0.3345 - val_acc: 0.8825\n",
      "Epoch 8/10\n",
      "15000/15000 [==============================] - 9s 592us/step - loss: 0.0778 - acc: 0.9793 - val_loss: 0.3494 - val_acc: 0.8811\n",
      "Epoch 9/10\n",
      "15000/15000 [==============================] - 10s 636us/step - loss: 0.0700 - acc: 0.9823 - val_loss: 0.3674 - val_acc: 0.8787\n",
      "Epoch 10/10\n",
      "15000/15000 [==============================] - 9s 589us/step - loss: 0.0613 - acc: 0.9858 - val_loss: 0.3823 - val_acc: 0.8782\n"
     ]
    }
   ],
   "source": [
    "history = model.fit(x=partial_x_train,y=partial_y_train,epochs=10,batch_size=64,validation_data=(x_val,y_val),verbose=1)"
   ]
  },
  {
   "cell_type": "code",
   "execution_count": 19,
   "metadata": {
    "collapsed": false
   },
   "outputs": [
    {
     "name": "stdout",
     "output_type": "stream",
     "text": [
      "25000/25000 [==============================] - 1s 26us/step\n"
     ]
    },
    {
     "data": {
      "text/plain": [
       "[0.4085956842446327, 0.86732]"
      ]
     },
     "execution_count": 19,
     "metadata": {},
     "output_type": "execute_result"
    }
   ],
   "source": [
    "model.evaluate(test_data,test_labels)"
   ]
  },
  {
   "cell_type": "code",
   "execution_count": 29,
   "metadata": {
    "collapsed": false
   },
   "outputs": [
    {
     "data": {
      "image/png": "[encoded data removed]",
      "text/plain": [
       "<matplotlib.figure.Figure at 0x19584999c50>"
      ]
     },
     "metadata": {},
     "output_type": "display_data"
    }
   ],
   "source": [
    "import matplotlib.pyplot as plt\n",
    "%matplotlib inline\n",
    "history_dict = history.history\n",
    "\n",
    "acc = history_dict['acc']\n",
    "val_acc = history_dict['val_acc']\n",
    "loss = history_dict['loss']\n",
    "val_loss = history_dict['val_loss']\n",
    "\n",
    "epochs = range(10)\n",
    "\n",
    "plt.plot(epochs, acc, 'bo', label='Training loss')\n",
    "\n",
    "# b is for \"solid blue line\"\n",
    "plt.plot(epochs, val_acc, 'b', label='Validation loss')\n",
    "\n",
    "plt.title('Training and validation auc')\n",
    "plt.xlabel('Epochs')\n",
    "plt.ylabel('Loss')\n",
    "plt.legend()\n",
    "\n",
    "plt.show()"
   ]
  },
  {
   "cell_type": "code",
   "execution_count": null,
   "metadata": {
    "collapsed": true
   },
   "outputs": [],
   "source": []
  }
 ],
 "metadata": {
  "anaconda-cloud": {},
  "kernelspec": {
   "display_name": "Python [conda root]",
   "language": "python",
   "name": "conda-root-py"
  },
  "language_info": {
   "codemirror_mode": {
    "name": "ipython",
    "version": 3
   },
   "file_extension": ".py",
   "mimetype": "text/x-python",
   "name": "python",
   "nbconvert_exporter": "python",
   "pygments_lexer": "ipython3",
   "version": "3.5.2"
  }
 },
 "nbformat": 4,
 "nbformat_minor": 1
}
