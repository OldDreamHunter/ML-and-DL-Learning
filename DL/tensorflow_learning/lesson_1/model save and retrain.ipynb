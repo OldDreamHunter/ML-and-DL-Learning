{
 "cells": [
  {
   "cell_type": "markdown",
   "metadata": {},
   "source": [
    "# 模型保存和重新训练\n",
    "\n",
    "---\n",
    "\n",
    "### 模型保存\n",
    "\n",
    "模型可以在训练期间和之后保存，让人调用或者继续学习"
   ]
  },
  {
   "cell_type": "code",
   "execution_count": 1,
   "metadata": {
    "collapsed": true
   },
   "outputs": [],
   "source": [
    "! pip install -q h5py pyyaml"
   ]
  },
  {
   "cell_type": "code",
   "execution_count": 2,
   "metadata": {
    "collapsed": true
   },
   "outputs": [],
   "source": [
    "import tensorflow as tf\n",
    "from tensorflow import keras"
   ]
  },
  {
   "cell_type": "code",
   "execution_count": 3,
   "metadata": {
    "collapsed": true
   },
   "outputs": [],
   "source": [
    "(train_images, train_labels), (test_images, test_labels) = tf.keras.datasets.mnist.load_data()\n",
    "\n",
    "train_labels = train_labels[:1000]\n",
    "test_labels = test_labels[:1000]\n",
    "\n",
    "train_images = train_images[:1000].reshape(-1, 28 * 28) / 255.0\n",
    "test_images = test_images[:1000].reshape(-1, 28 * 28) / 255.0"
   ]
  },
  {
   "cell_type": "code",
   "execution_count": 12,
   "metadata": {
    "collapsed": true
   },
   "outputs": [],
   "source": [
    "def create_model():\n",
    "    model = tf.keras.models.Sequential([\n",
    "            keras.layers.Dense(512,activation=tf.nn.relu,input_shape=(784,)),\n",
    "            keras.layers.Dropout(0.2),\n",
    "            keras.layers.Dense(10,activation=tf.nn.softmax)\n",
    "        ])\n",
    "    model.compile(optimizer=tf.keras.optimizers.Adam(),loss=tf.keras.losses.sparse_categorical_crossentropy,metrics=['accuracy'])\n",
    "    return model"
   ]
  },
  {
   "cell_type": "code",
   "execution_count": 14,
   "metadata": {
    "collapsed": false
   },
   "outputs": [
    {
     "name": "stdout",
     "output_type": "stream",
     "text": [
      "_________________________________________________________________\n",
      "Layer (type)                 Output Shape              Param #   \n",
      "=================================================================\n",
      "dense_6 (Dense)              (None, 512)               401920    \n",
      "_________________________________________________________________\n",
      "dropout_3 (Dropout)          (None, 512)               0         \n",
      "_________________________________________________________________\n",
      "dense_7 (Dense)              (None, 10)                5130      \n",
      "=================================================================\n",
      "Total params: 407,050\n",
      "Trainable params: 407,050\n",
      "Non-trainable params: 0\n",
      "_________________________________________________________________\n"
     ]
    }
   ],
   "source": [
    "model = create_model()\n",
    "model.summary()"
   ]
  },
  {
   "cell_type": "code",
   "execution_count": 15,
   "metadata": {
    "collapsed": false
   },
   "outputs": [
    {
     "name": "stdout",
     "output_type": "stream",
     "text": [
      "Train on 1000 samples, validate on 1000 samples\n",
      "Epoch 1/10\n",
      "1000/1000 [==============================] - 0s 491us/step - loss: 1.1649 - acc: 0.6550 - val_loss: 0.7174 - val_acc: 0.7740\n",
      "Epoch 2/10\n",
      "1000/1000 [==============================] - 0s 160us/step - loss: 0.4255 - acc: 0.8870 - val_loss: 0.5631 - val_acc: 0.8220\n",
      "Epoch 3/10\n",
      "1000/1000 [==============================] - 0s 155us/step - loss: 0.2786 - acc: 0.9240 - val_loss: 0.5095 - val_acc: 0.8340\n",
      "Epoch 4/10\n",
      "1000/1000 [==============================] - 0s 147us/step - loss: 0.2182 - acc: 0.9450 - val_loss: 0.4670 - val_acc: 0.8500\n",
      "Epoch 5/10\n",
      "1000/1000 [==============================] - 0s 183us/step - loss: 0.1454 - acc: 0.9690 - val_loss: 0.4315 - val_acc: 0.8620\n",
      "Epoch 6/10\n",
      "1000/1000 [==============================] - 0s 229us/step - loss: 0.1093 - acc: 0.9780 - val_loss: 0.4109 - val_acc: 0.8640\n",
      "Epoch 7/10\n",
      "1000/1000 [==============================] - 0s 189us/step - loss: 0.0877 - acc: 0.9870 - val_loss: 0.4287 - val_acc: 0.8700\n",
      "Epoch 8/10\n",
      "1000/1000 [==============================] - 0s 151us/step - loss: 0.0722 - acc: 0.9890 - val_loss: 0.4295 - val_acc: 0.8580\n",
      "Epoch 9/10\n",
      "1000/1000 [==============================] - 0s 171us/step - loss: 0.0532 - acc: 0.9910 - val_loss: 0.4397 - val_acc: 0.8570\n",
      "Epoch 10/10\n",
      "1000/1000 [==============================] - 0s 142us/step - loss: 0.0361 - acc: 1.0000 - val_loss: 0.4276 - val_acc: 0.8630\n"
     ]
    },
    {
     "data": {
      "text/plain": [
       "<tensorflow.python.keras.callbacks.History at 0x13c9bfa90>"
      ]
     },
     "execution_count": 15,
     "metadata": {},
     "output_type": "execute_result"
    }
   ],
   "source": [
    "model.fit(train_images,train_labels,epochs=10,validation_data=[test_images,test_labels])"
   ]
  },
  {
   "cell_type": "code",
   "execution_count": null,
   "metadata": {
    "collapsed": true
   },
   "outputs": [],
   "source": []
  }
 ],
 "metadata": {
  "kernelspec": {
   "display_name": "Python [conda env:anaconda]",
   "language": "python",
   "name": "conda-env-anaconda-py"
  },
  "language_info": {
   "codemirror_mode": {
    "name": "ipython",
    "version": 3
   },
   "file_extension": ".py",
   "mimetype": "text/x-python",
   "name": "python",
   "nbconvert_exporter": "python",
   "pygments_lexer": "ipython3",
   "version": "3.5.2"
  }
 },
 "nbformat": 4,
 "nbformat_minor": 1
}
